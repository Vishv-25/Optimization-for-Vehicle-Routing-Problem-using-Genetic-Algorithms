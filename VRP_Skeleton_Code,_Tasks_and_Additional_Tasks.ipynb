{
  "nbformat": 4,
  "nbformat_minor": 0,
  "metadata": {
    "colab": {
      "provenance": []
    },
    "kernelspec": {
      "name": "python3",
      "display_name": "Python 3"
    },
    "language_info": {
      "name": "python"
    }
  },
  "cells": [
    {
      "cell_type": "code",
      "source": [
        "!pip install matplotlib deap"
      ],
      "metadata": {
        "id": "rasUd6nQOz0c",
        "outputId": "f24e984f-f6f9-4e61-ed8e-a351ce3cb391",
        "colab": {
          "base_uri": "https://localhost:8080/"
        }
      },
      "execution_count": 13,
      "outputs": [
        {
          "output_type": "stream",
          "name": "stdout",
          "text": [
            "Requirement already satisfied: matplotlib in /usr/local/lib/python3.10/dist-packages (3.8.0)\n",
            "Requirement already satisfied: deap in /usr/local/lib/python3.10/dist-packages (1.4.1)\n",
            "Requirement already satisfied: contourpy>=1.0.1 in /usr/local/lib/python3.10/dist-packages (from matplotlib) (1.3.1)\n",
            "Requirement already satisfied: cycler>=0.10 in /usr/local/lib/python3.10/dist-packages (from matplotlib) (0.12.1)\n",
            "Requirement already satisfied: fonttools>=4.22.0 in /usr/local/lib/python3.10/dist-packages (from matplotlib) (4.55.1)\n",
            "Requirement already satisfied: kiwisolver>=1.0.1 in /usr/local/lib/python3.10/dist-packages (from matplotlib) (1.4.7)\n",
            "Requirement already satisfied: numpy<2,>=1.21 in /usr/local/lib/python3.10/dist-packages (from matplotlib) (1.26.4)\n",
            "Requirement already satisfied: packaging>=20.0 in /usr/local/lib/python3.10/dist-packages (from matplotlib) (24.2)\n",
            "Requirement already satisfied: pillow>=6.2.0 in /usr/local/lib/python3.10/dist-packages (from matplotlib) (11.0.0)\n",
            "Requirement already satisfied: pyparsing>=2.3.1 in /usr/local/lib/python3.10/dist-packages (from matplotlib) (3.2.0)\n",
            "Requirement already satisfied: python-dateutil>=2.7 in /usr/local/lib/python3.10/dist-packages (from matplotlib) (2.8.2)\n",
            "Requirement already satisfied: six>=1.5 in /usr/local/lib/python3.10/dist-packages (from python-dateutil>=2.7->matplotlib) (1.16.0)\n"
          ]
        }
      ]
    },
    {
      "cell_type": "code",
      "source": [
        "#Required Libraries\n",
        "import random\n",
        "import matplotlib.pyplot as plt\n",
        "from deap import base, creator, tools, algorithms"
      ],
      "metadata": {
        "id": "xgkQ8kR1lien"
      },
      "execution_count": null,
      "outputs": []
    },
    {
      "cell_type": "code",
      "source": [
        "# TODO: Task 1 - Define the number of locations and vehicles\n",
        "num_locations = # Define the number of locations (eg 10)\n",
        "locations = # Create a list of tuples representing location coordinates -\n",
        "            #try to use a random number generator\n",
        "depot = # Define the coordinates for the depot\n",
        "num_vehicles = # Define the number of vehicles - (eg 3)"
      ],
      "metadata": {
        "id": "XUlrN_emlku4"
      },
      "execution_count": null,
      "outputs": []
    },
    {
      "cell_type": "code",
      "source": [
        "# Genetic Algorithm Setup\n",
        "creator.create(\"FitnessMin\", base.Fitness, weights=(-1.0,))\n",
        "creator.create(\"Individual\", list, fitness=creator.FitnessMin)"
      ],
      "metadata": {
        "id": "JMke8QWxlm0_"
      },
      "execution_count": null,
      "outputs": []
    },
    {
      "cell_type": "code",
      "source": [
        "#TASK 2 - Finish setting up the individuals and population\n",
        "toolbox = base.Toolbox()\n",
        "toolbox.register(\"indices\", random.sample, range(num_locations), num_locations)\n",
        "toolbox.register(\"individual\", #finish defining how to build an individual)\n",
        "toolbox.register(\"population\", #finish defining how to build an population)\n",
        "#HINT: Refer to the Maze Solver Code to see the templates. For more info, https://deap.readthedocs.io/en/master/api/base.html"
      ],
      "metadata": {
        "id": "WfyvLqrLloMO"
      },
      "execution_count": null,
      "outputs": []
    },
    {
      "cell_type": "code",
      "source": [
        "# Fitness Function\n",
        "def evalVRP(individual):\n",
        "    # TODO: Task 3 - Write the fitness evaluation function\n",
        "    # HINT: Calculate the total distance of routes and the standard deviation among the distances and return (distance, std dev)\n",
        "\n",
        "toolbox.register(\"evaluate\", evalVRP)"
      ],
      "metadata": {
        "id": "EJYRILXClslP"
      },
      "execution_count": null,
      "outputs": []
    },
    {
      "cell_type": "code",
      "source": [
        "# Genetic Operators\n",
        "# TODO: Task 4 - Configure the genetic operators\n",
        "toolbox.register(\"mate\", # Choose and configure a crossover method)\n",
        "toolbox.register(\"mutate\", # Choose and configure a mutation method)\n",
        "toolbox.register(\"select\", # Choose and configure a selection method)\n",
        "#Select is simpler, try tournament selection or roulette selection.\n",
        "#Mate and mutate - try methods used in Travelling Salesman Problem\n",
        "\n",
        "#Mating Methods for sequence of indices\n",
        "#https://deap.readthedocs.io/en/master/api/tools.html#deap.tools.cxPartialyMatched\n",
        "#https://deap.readthedocs.io/en/master/api/tools.html#deap.tools.cxUniformPartialyMatched\n",
        "#https://deap.readthedocs.io/en/master/api/tools.html#deap.tools.cxOrdered\n",
        "\n",
        "#Mutation Methods for Sequences\n",
        "#https://deap.readthedocs.io/en/master/api/tools.html#deap.tools.mutShuffleIndexes"
      ],
      "metadata": {
        "id": "Zc5g7fUWlwHx"
      },
      "execution_count": null,
      "outputs": []
    },
    {
      "cell_type": "code",
      "source": [
        "# Plotting Function\n",
        "def plot_routes(individual, title=\"Routes\"):\n",
        "    #TODO: Task 5 - Write a function to visualize the routes - just plot the points and lines for each vehicle\n",
        "\n",
        "    #HINT: Refer to the Maze Solver in terms of how to plot and display. OR refer Pyplot docs - https://matplotlib.org/stable/tutorials/pyplot.html\n"
      ],
      "metadata": {
        "id": "5X-WdTbqlxHD"
      },
      "execution_count": null,
      "outputs": []
    },
    {
      "cell_type": "code",
      "execution_count": null,
      "metadata": {
        "id": "WKtXWUvtOhQR"
      },
      "outputs": [],
      "source": [
        "# Running the Genetic Algorithm\n",
        "def main():\n",
        "    random.seed(42)\n",
        "    pop = toolbox.population(n=300)\n",
        "    hof = tools.HallOfFame(1)\n",
        "\n",
        "    stats = tools.Statistics(lambda ind: ind.fitness.values)\n",
        "    stats.register(\"avg\", np.mean)\n",
        "    stats.register(\"min\", np.min)\n",
        "\n",
        "    algorithms.eaSimple(pop, toolbox, 0.7, 0.2, 30, stats=stats, halloffame=hof)\n",
        "    #Refer eaSimple here - https://deap.readthedocs.io/en/master/api/algo.html\n",
        "\n",
        "    return pop, stats, hof\n",
        "\n",
        "if __name__ == \"__main__\":\n",
        "    # TODO: Task 6 - Call the main function, run the algorithm and print the results"
      ]
    },
    {
      "cell_type": "code",
      "source": [
        "# Additional Tasks for the Vehicle Routing Project (Optional but highly recommended)\n",
        "\n",
        "# 1. Parameter Tuning:\n",
        "# Task: Vary parameters like population size, mutation rate, or tournament size. Analyze their impact on the results.\n",
        "# Purpose: Learn the importance of parameter tuning in genetic algorithms and how it affects outcomes.\n",
        "\n",
        "# 2. Fitness Score Analysis Over Generations:\n",
        "# Task: Plot the fitness score of the best individual over generations for different configurations.\n",
        "# Purpose: Visualize and understand the convergence behavior of the algorithm under different settings.\n",
        "\n",
        "# 3. Solution Diversity Analysis:\n",
        "# Task: Implement a method to measure and report the diversity of solutions in the population over time.\n",
        "# Purpose: Explore the balance between exploration and exploitation in genetic algorithms."
      ],
      "metadata": {
        "id": "MgIfOFk4Oy1a"
      },
      "execution_count": 14,
      "outputs": []
    }
  ]
}